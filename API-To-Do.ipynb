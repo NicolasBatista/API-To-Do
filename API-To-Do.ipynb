{
  "nbformat": 4,
  "nbformat_minor": 0,
  "metadata": {
    "colab": {
      "provenance": []
    },
    "kernelspec": {
      "name": "python3",
      "display_name": "Python 3"
    },
    "language_info": {
      "name": "python"
    }
  },
  "cells": [
    {
      "cell_type": "code",
      "execution_count": null,
      "metadata": {
        "id": "aV2QwrqZX66D"
      },
      "outputs": [],
      "source": [
        "# Bibliotecas para manipular requisições e repostas\n",
        "import requests as rs\n",
        "import json"
      ]
    },
    {
      "cell_type": "code",
      "source": [
        "# Endpoint da aplicação (API)\n",
        "recurso = 'user'    # Resources (veja na documentação)\n",
        "servico = 'login'   # Cada resource tem seu métodos para os seviços\n",
        "url = f\"https://todolist-api.edsonmelo.com.br/api/{recurso}/{servico}/\"\n",
        "\n",
        "# Corpo da mensagem a ser enviada para a API com as informações\n",
        "# Veja na documentação as opções de pay_load de acordo com o recurso e serviço desejado\n",
        "pay_load = {\n",
        "    'username': 'eduni9',\n",
        "    'password': 'eduar9'\n",
        "    }\n",
        "\n",
        "# Cabeçalho da requisição informando o que deverá ser enviado e qual o formato\n",
        "headers = {'Content-type': 'application/json', 'Accept': 'text/plain'}\n",
        "\n",
        "# Envio da requisição e armazenamento dos dados recebidos\n",
        "dados = rs.post(url, data=json.dumps(pay_load), headers=headers)\n",
        "\n",
        "# Aqui devem ser realizados os tratamentos no caso de ocorrerem erros\n",
        "try:\n",
        "    # Converte os dados recebidos em em dicionário Python\n",
        "    dicionario = json.loads(dados.text)\n",
        "\n",
        "    if 'message' in dicionario:\n",
        "        # Gera uma mensagem de erro com o valor retornado pela API ou conexão\n",
        "        raise Exception(dicionario.get('message'))\n",
        "        \n",
        "    else:\n",
        "        # Mostra os dados retornados já convertidos\n",
        "        print(dicionario);\n",
        "\n",
        "        # Mostra os dados de forma isolada para cada variável recebida na requisição\n",
        "        print('Id: ', dicionario.get('id'))\n",
        "        print('Nome: ', dicionario.get('name'))\n",
        "        print('Email: ', dicionario.get('email'))\n",
        "        print('Token: ', dicionario.get('token'))\n",
        "        print('imagem: ', dicionario.get('picture'))\n",
        "\n",
        "except Exception as error:\n",
        "    print(error)"
      ],
      "metadata": {
        "colab": {
          "base_uri": "https://localhost:8080/"
        },
        "id": "BTU-y6FuX9r9",
        "outputId": "80c3e035-360a-4e0f-eb50-f96dd6f8573c"
      },
      "execution_count": null,
      "outputs": [
        {
          "output_type": "stream",
          "name": "stdout",
          "text": [
            "{'id': 45, 'name': 'Eduardo', 'email': 'eduardoliveira.eo4@gmail.com', 'token': 'A4E8579F698FAA438CF3', 'picture': None}\n",
            "Id:  45\n",
            "Nome:  Eduardo\n",
            "Email:  eduardoliveira.eo4@gmail.com\n",
            "Token:  A4E8579F698FAA438CF3\n",
            "imagem:  None\n"
          ]
        }
      ]
    },
    {
      "cell_type": "code",
      "source": [],
      "metadata": {
        "id": "LA8humUsh4di"
      },
      "execution_count": null,
      "outputs": []
    }
  ]
}